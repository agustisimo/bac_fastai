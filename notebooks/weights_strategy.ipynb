{
 "cells": [
  {
   "cell_type": "code",
   "execution_count": 1,
   "id": "72d8a86b",
   "metadata": {},
   "outputs": [
    {
     "name": "stderr",
     "output_type": "stream",
     "text": [
      "2024-06-14 19:10:03.526940: I tensorflow/core/util/port.cc:113] oneDNN custom operations are on. You may see slightly different numerical results due to floating-point round-off errors from different computation orders. To turn them off, set the environment variable `TF_ENABLE_ONEDNN_OPTS=0`.\n",
      "2024-06-14 19:10:03.585071: I tensorflow/core/platform/cpu_feature_guard.cc:210] This TensorFlow binary is optimized to use available CPU instructions in performance-critical operations.\n",
      "To enable the following instructions: AVX2 AVX512F AVX512_VNNI FMA, in other operations, rebuild TensorFlow with the appropriate compiler flags.\n",
      "2024-06-14 19:10:04.570916: W tensorflow/compiler/tf2tensorrt/utils/py_utils.cc:38] TF-TRT Warning: Could not find TensorRT\n"
     ]
    }
   ],
   "source": [
    "import tensorflow as tf\n",
    "import os\n",
    "from fastai.vision.all import *\n",
    "from nbdev.showdoc import *\n",
    "import fastbook\n",
    "fastbook.setup_book()\n",
    "import random\n",
    "from fastai.vision.augment import aug_transforms\n",
    "import numpy as np\n",
    "import matplotlib.pyplot as plt\n",
    "from sklearn.metrics import confusion_matrix\n",
    "import seaborn as sns\n",
    "from imblearn.over_sampling import RandomOverSampler\n",
    "from sklearn.model_selection import train_test_split\n",
    "from sklearn.metrics import roc_auc_score\n",
    "from fastai.data.load import DataLoader\n",
    "from imblearn.over_sampling import RandomOverSampler\n",
    "import cv2\n",
    "import imagej\n",
    "from torchvision.models import vgg16\n",
    "import torch.nn as nn\n",
    "import tensorflow as tf\n",
    "import os\n",
    "from fastai.vision.all import *\n",
    "from nbdev.showdoc import *\n",
    "import fastbook\n",
    "import random\n",
    "from fastai.vision.augment import aug_transforms\n",
    "import numpy as np\n",
    "import matplotlib.pyplot as plt\n",
    "import seaborn as sns\n",
    "from imblearn.over_sampling import RandomOverSampler\n",
    "from sklearn.model_selection import train_test_split\n",
    "from fastai.data.load import DataLoader\n",
    "from imblearn.over_sampling import RandomOverSampler\n",
    "from sklearn.metrics import roc_auc_score, confusion_matrix, classification_report, roc_curve, auc"
   ]
  },
  {
   "cell_type": "code",
   "execution_count": 2,
   "id": "3ed9d34f",
   "metadata": {},
   "outputs": [],
   "source": [
    "bac_minus_folder = 'NEGATIVOS'\n",
    "bac_plus_folder = 'POSITIVOS'\n",
    "\n",
    "bac_minus_paths = get_image_files(bac_minus_folder)\n",
    "bac_plus_paths = get_image_files(bac_plus_folder)\n",
    "\n",
    "bac_minus_labels = [0] * len(bac_minus_paths)\n",
    "bac_plus_labels = [1] * len(bac_plus_paths)\n",
    "\n",
    "all_paths = bac_minus_paths + bac_plus_paths\n",
    "all_paths_list = list(all_paths)\n",
    "\n",
    "\n",
    "all_labels = bac_minus_labels + bac_plus_labels\n"
   ]
  },
  {
   "cell_type": "code",
   "execution_count": 3,
   "id": "58326945",
   "metadata": {},
   "outputs": [],
   "source": [
    "df = pd.DataFrame({'image_path': all_paths, 'label': all_labels})\n"
   ]
  },
  {
   "cell_type": "code",
   "execution_count": 4,
   "id": "9cecc409",
   "metadata": {},
   "outputs": [],
   "source": [
    "train_val_df, test_df = train_test_split(\n",
    "    df, test_size=0.2, random_state=42, stratify=df['label']\n",
    ")\n",
    "\n",
    "train_df, valid_df = train_test_split(\n",
    "    train_val_df, test_size=0.2, random_state=42, stratify=train_val_df['label']\n",
    ")"
   ]
  },
  {
   "cell_type": "code",
   "execution_count": 5,
   "id": "6d54ca79",
   "metadata": {},
   "outputs": [],
   "source": [
    "dblock = DataBlock(\n",
    "    blocks=(ImageBlock, CategoryBlock),\n",
    "    get_x=ColReader('image_path'),\n",
    "    get_y=ColReader('label'),\n",
    "    item_tfms=Resize(256),\n",
    "    batch_tfms=aug_transforms(flip_vert=False, do_flip=False)  # Ejemplo de augmentaciones\n",
    ")\n"
   ]
  },
  {
   "cell_type": "code",
   "execution_count": 6,
   "id": "cad88442",
   "metadata": {},
   "outputs": [],
   "source": [
    "dls = dblock.dataloaders(train_df, valid_df=valid_df, bs=8)"
   ]
  },
  {
   "cell_type": "code",
   "execution_count": 7,
   "id": "8f03ca18",
   "metadata": {},
   "outputs": [],
   "source": [
    "def get_weights(dls):\n",
    "    classes = dls.vocab\n",
    "    train_lbls = L(map(lambda x: classes[x[1]], dls.train_ds))\n",
    "    label_counter = Counter(train_lbls)\n",
    "    n_most_common_class = max(label_counter.values())\n",
    "    print(f'Occurrences of the most common class {n_most_common_class}')\n",
    "    weights = [n_most_common_class/v for k, v in label_counter.items() if v > 0]\n",
    "    return weights"
   ]
  },
  {
   "cell_type": "code",
   "execution_count": 8,
   "id": "11d79c1e",
   "metadata": {},
   "outputs": [
    {
     "name": "stderr",
     "output_type": "stream",
     "text": [
      "/data/home/alopezortiz/fastai-master/fastai/vision/learner.py:301: UserWarning: `cnn_learner` has been renamed to `vision_learner` -- please update your code\n",
      "  warn(\"`cnn_learner` has been renamed to `vision_learner` -- please update your code\")\n"
     ]
    }
   ],
   "source": [
    "learn = cnn_learner(dls, models.vgg16_bn, metrics=[accuracy, Precision(), Recall(), F1Score()])"
   ]
  },
  {
   "cell_type": "code",
   "execution_count": 9,
   "id": "baabbd82",
   "metadata": {},
   "outputs": [
    {
     "name": "stdout",
     "output_type": "stream",
     "text": [
      "Occurrences of the most common class 2267\n"
     ]
    }
   ],
   "source": [
    "class_weights = get_weights(dls)"
   ]
  },
  {
   "cell_type": "code",
   "execution_count": 10,
   "id": "2bfac6ca",
   "metadata": {},
   "outputs": [],
   "source": [
    "weight_tensor = torch.FloatTensor(class_weights)"
   ]
  },
  {
   "cell_type": "code",
   "execution_count": 11,
   "id": "684e2dbc",
   "metadata": {},
   "outputs": [],
   "source": [
    "learn.loss_func = CrossEntropyLossFlat(weight=weight_tensor)"
   ]
  },
  {
   "cell_type": "code",
   "execution_count": 12,
   "id": "e3cc2e9c",
   "metadata": {},
   "outputs": [
    {
     "data": {
      "text/html": [
       "\n",
       "<style>\n",
       "    /* Turns off some styling */\n",
       "    progress {\n",
       "        /* gets rid of default border in Firefox and Opera. */\n",
       "        border: none;\n",
       "        /* Needs to be in here for Safari polyfill so background images work as expected. */\n",
       "        background-size: auto;\n",
       "    }\n",
       "    progress:not([value]), progress:not([value])::-webkit-progress-bar {\n",
       "        background: repeating-linear-gradient(45deg, #7e7e7e, #7e7e7e 10px, #5c5c5c 10px, #5c5c5c 20px);\n",
       "    }\n",
       "    .progress-bar-interrupted, .progress-bar-interrupted::-webkit-progress-bar {\n",
       "        background: #F44336;\n",
       "    }\n",
       "</style>\n"
      ],
      "text/plain": [
       "<IPython.core.display.HTML object>"
      ]
     },
     "metadata": {},
     "output_type": "display_data"
    },
    {
     "data": {
      "text/html": [
       "<table border=\"1\" class=\"dataframe\">\n",
       "  <thead>\n",
       "    <tr style=\"text-align: left;\">\n",
       "      <th>epoch</th>\n",
       "      <th>train_loss</th>\n",
       "      <th>valid_loss</th>\n",
       "      <th>accuracy</th>\n",
       "      <th>precision_score</th>\n",
       "      <th>recall_score</th>\n",
       "      <th>f1_score</th>\n",
       "      <th>time</th>\n",
       "    </tr>\n",
       "  </thead>\n",
       "  <tbody>\n",
       "    <tr>\n",
       "      <td>0</td>\n",
       "      <td>1.021525</td>\n",
       "      <td>0.931334</td>\n",
       "      <td>0.736177</td>\n",
       "      <td>0.196078</td>\n",
       "      <td>0.405405</td>\n",
       "      <td>0.264317</td>\n",
       "      <td>01:43</td>\n",
       "    </tr>\n",
       "  </tbody>\n",
       "</table>"
      ],
      "text/plain": [
       "<IPython.core.display.HTML object>"
      ]
     },
     "metadata": {},
     "output_type": "display_data"
    },
    {
     "data": {
      "text/html": [
       "\n",
       "<style>\n",
       "    /* Turns off some styling */\n",
       "    progress {\n",
       "        /* gets rid of default border in Firefox and Opera. */\n",
       "        border: none;\n",
       "        /* Needs to be in here for Safari polyfill so background images work as expected. */\n",
       "        background-size: auto;\n",
       "    }\n",
       "    progress:not([value]), progress:not([value])::-webkit-progress-bar {\n",
       "        background: repeating-linear-gradient(45deg, #7e7e7e, #7e7e7e 10px, #5c5c5c 10px, #5c5c5c 20px);\n",
       "    }\n",
       "    .progress-bar-interrupted, .progress-bar-interrupted::-webkit-progress-bar {\n",
       "        background: #F44336;\n",
       "    }\n",
       "</style>\n"
      ],
      "text/plain": [
       "<IPython.core.display.HTML object>"
      ]
     },
     "metadata": {},
     "output_type": "display_data"
    },
    {
     "data": {
      "text/html": [
       "<table border=\"1\" class=\"dataframe\">\n",
       "  <thead>\n",
       "    <tr style=\"text-align: left;\">\n",
       "      <th>epoch</th>\n",
       "      <th>train_loss</th>\n",
       "      <th>valid_loss</th>\n",
       "      <th>accuracy</th>\n",
       "      <th>precision_score</th>\n",
       "      <th>recall_score</th>\n",
       "      <th>f1_score</th>\n",
       "      <th>time</th>\n",
       "    </tr>\n",
       "  </thead>\n",
       "  <tbody>\n",
       "    <tr>\n",
       "      <td>0</td>\n",
       "      <td>0.758760</td>\n",
       "      <td>0.650279</td>\n",
       "      <td>0.829384</td>\n",
       "      <td>0.297619</td>\n",
       "      <td>0.337838</td>\n",
       "      <td>0.316456</td>\n",
       "      <td>01:53</td>\n",
       "    </tr>\n",
       "    <tr>\n",
       "      <td>1</td>\n",
       "      <td>0.682637</td>\n",
       "      <td>0.578416</td>\n",
       "      <td>0.691943</td>\n",
       "      <td>0.253061</td>\n",
       "      <td>0.837838</td>\n",
       "      <td>0.388715</td>\n",
       "      <td>01:55</td>\n",
       "    </tr>\n",
       "    <tr>\n",
       "      <td>2</td>\n",
       "      <td>0.654484</td>\n",
       "      <td>0.531756</td>\n",
       "      <td>0.793049</td>\n",
       "      <td>0.316129</td>\n",
       "      <td>0.662162</td>\n",
       "      <td>0.427948</td>\n",
       "      <td>01:47</td>\n",
       "    </tr>\n",
       "    <tr>\n",
       "      <td>3</td>\n",
       "      <td>0.651443</td>\n",
       "      <td>0.465537</td>\n",
       "      <td>0.720379</td>\n",
       "      <td>0.264840</td>\n",
       "      <td>0.783784</td>\n",
       "      <td>0.395904</td>\n",
       "      <td>01:42</td>\n",
       "    </tr>\n",
       "    <tr>\n",
       "      <td>4</td>\n",
       "      <td>0.691853</td>\n",
       "      <td>0.575642</td>\n",
       "      <td>0.693523</td>\n",
       "      <td>0.269231</td>\n",
       "      <td>0.945946</td>\n",
       "      <td>0.419162</td>\n",
       "      <td>01:43</td>\n",
       "    </tr>\n",
       "    <tr>\n",
       "      <td>5</td>\n",
       "      <td>0.685914</td>\n",
       "      <td>0.439230</td>\n",
       "      <td>0.714060</td>\n",
       "      <td>0.272340</td>\n",
       "      <td>0.864865</td>\n",
       "      <td>0.414239</td>\n",
       "      <td>01:42</td>\n",
       "    </tr>\n",
       "    <tr>\n",
       "      <td>6</td>\n",
       "      <td>0.526322</td>\n",
       "      <td>0.468545</td>\n",
       "      <td>0.845182</td>\n",
       "      <td>0.353659</td>\n",
       "      <td>0.391892</td>\n",
       "      <td>0.371795</td>\n",
       "      <td>01:41</td>\n",
       "    </tr>\n",
       "    <tr>\n",
       "      <td>7</td>\n",
       "      <td>0.554344</td>\n",
       "      <td>0.483575</td>\n",
       "      <td>0.875197</td>\n",
       "      <td>0.391304</td>\n",
       "      <td>0.121622</td>\n",
       "      <td>0.185567</td>\n",
       "      <td>01:48</td>\n",
       "    </tr>\n",
       "    <tr>\n",
       "      <td>8</td>\n",
       "      <td>0.455706</td>\n",
       "      <td>0.408658</td>\n",
       "      <td>0.818325</td>\n",
       "      <td>0.360544</td>\n",
       "      <td>0.716216</td>\n",
       "      <td>0.479638</td>\n",
       "      <td>01:40</td>\n",
       "    </tr>\n",
       "    <tr>\n",
       "      <td>9</td>\n",
       "      <td>0.433798</td>\n",
       "      <td>0.470836</td>\n",
       "      <td>0.764613</td>\n",
       "      <td>0.305699</td>\n",
       "      <td>0.797297</td>\n",
       "      <td>0.441948</td>\n",
       "      <td>01:38</td>\n",
       "    </tr>\n",
       "    <tr>\n",
       "      <td>10</td>\n",
       "      <td>0.403217</td>\n",
       "      <td>0.427760</td>\n",
       "      <td>0.796209</td>\n",
       "      <td>0.322581</td>\n",
       "      <td>0.675676</td>\n",
       "      <td>0.436681</td>\n",
       "      <td>01:36</td>\n",
       "    </tr>\n",
       "    <tr>\n",
       "      <td>11</td>\n",
       "      <td>0.365775</td>\n",
       "      <td>0.427333</td>\n",
       "      <td>0.859400</td>\n",
       "      <td>0.428571</td>\n",
       "      <td>0.608108</td>\n",
       "      <td>0.502793</td>\n",
       "      <td>01:37</td>\n",
       "    </tr>\n",
       "    <tr>\n",
       "      <td>12</td>\n",
       "      <td>0.312258</td>\n",
       "      <td>0.429754</td>\n",
       "      <td>0.876777</td>\n",
       "      <td>0.473684</td>\n",
       "      <td>0.486486</td>\n",
       "      <td>0.480000</td>\n",
       "      <td>01:36</td>\n",
       "    </tr>\n",
       "    <tr>\n",
       "      <td>13</td>\n",
       "      <td>0.331579</td>\n",
       "      <td>0.452621</td>\n",
       "      <td>0.884676</td>\n",
       "      <td>0.507246</td>\n",
       "      <td>0.472973</td>\n",
       "      <td>0.489510</td>\n",
       "      <td>01:37</td>\n",
       "    </tr>\n",
       "    <tr>\n",
       "      <td>14</td>\n",
       "      <td>0.264405</td>\n",
       "      <td>0.419200</td>\n",
       "      <td>0.868878</td>\n",
       "      <td>0.447059</td>\n",
       "      <td>0.513514</td>\n",
       "      <td>0.477987</td>\n",
       "      <td>01:37</td>\n",
       "    </tr>\n",
       "  </tbody>\n",
       "</table>"
      ],
      "text/plain": [
       "<IPython.core.display.HTML object>"
      ]
     },
     "metadata": {},
     "output_type": "display_data"
    }
   ],
   "source": [
    "learn.fine_tune(15)"
   ]
  },
  {
   "cell_type": "code",
   "execution_count": null,
   "id": "6690e384",
   "metadata": {},
   "outputs": [],
   "source": [
    "train_losses = [x[0] for x in learn.recorder.values]\n",
    "valid_losses = [x[1] for x in learn.recorder.values]\n",
    "accuracies = [x[2] for x in learn.recorder.values]\n",
    "precision_score = [x[3] for x in learn.recorder.values]\n",
    "recall_score = [x[4] for x in learn.recorder.values]\n",
    "f1_score = [x[5] for x in learn.recorder.values]\n",
    "\n",
    "epochs = range(1, len(train_losses) + 1)\n",
    "\n",
    "plt.plot(epochs, train_losses, 'r', label='Train Loss')\n",
    "plt.plot(epochs, valid_losses, 'b', label='Valid Loss')\n",
    "plt.title('Training and Validation Loss')\n",
    "plt.xlabel('Epochs')\n",
    "plt.ylabel('Loss')\n",
    "plt.legend()\n",
    "plt.show()\n",
    "\n",
    "plt.plot(epochs, accuracies, 'b', label='Accuracy')\n",
    "plt.plot(epochs, precision_score, 'g', label='Precision')\n",
    "plt.plot(epochs, recall_score, 'm', label='Recall')\n",
    "plt.plot(epochs, f1_score, 'k', label='F1-score')\n",
    "plt.title('Accuracy, Precision, Recall and F1-score')\n",
    "plt.xlabel('Epochs')\n",
    "plt.ylabel('Score')\n",
    "plt.legend()"
   ]
  },
  {
   "cell_type": "code",
   "execution_count": null,
   "id": "e2075302",
   "metadata": {},
   "outputs": [],
   "source": [
    "accuracies_max = max(accuracies)\n",
    "precision_score_max = max(precision_score)\n",
    "recall_score_max = max(recall_score)\n",
    "f1_score_max = max(f1_score)\n",
    "\n",
    "accuracies_avg = np.mean(accuracies)\n",
    "precision_score_avg = np.mean(precision_score)\n",
    "recall_score_avg = np.mean(recall_score)\n",
    "f1_score_avg = np.mean(f1_score)\n",
    "\n",
    "print(f'Max accuracy: {accuracies_max}')\n",
    "print(f'Max precision score: {precision_score_max}')\n",
    "print(f'Max recall score: {recall_score_max}')\n",
    "print(f'Max f1 score: {f1_score_max}')\n",
    "\n",
    "print(f'Average accuracy: {accuracies_avg}')\n",
    "print(f'Average precision score: {precision_score_avg}')\n",
    "print(f'Average precision score: {recall_score_avg}')\n",
    "print(f'Average precision score: {f1_score_avg}')"
   ]
  },
  {
   "cell_type": "code",
   "execution_count": 24,
   "id": "ea0e0cc2",
   "metadata": {},
   "outputs": [
    {
     "data": {
      "text/html": [
       "\n",
       "<style>\n",
       "    /* Turns off some styling */\n",
       "    progress {\n",
       "        /* gets rid of default border in Firefox and Opera. */\n",
       "        border: none;\n",
       "        /* Needs to be in here for Safari polyfill so background images work as expected. */\n",
       "        background-size: auto;\n",
       "    }\n",
       "    progress:not([value]), progress:not([value])::-webkit-progress-bar {\n",
       "        background: repeating-linear-gradient(45deg, #7e7e7e, #7e7e7e 10px, #5c5c5c 10px, #5c5c5c 20px);\n",
       "    }\n",
       "    .progress-bar-interrupted, .progress-bar-interrupted::-webkit-progress-bar {\n",
       "        background: #F44336;\n",
       "    }\n",
       "</style>\n"
      ],
      "text/plain": [
       "<IPython.core.display.HTML object>"
      ]
     },
     "metadata": {},
     "output_type": "display_data"
    },
    {
     "data": {
      "text/html": [],
      "text/plain": [
       "<IPython.core.display.HTML object>"
      ]
     },
     "metadata": {},
     "output_type": "display_data"
    },
    {
     "data": {
      "image/png": "[encoded data removed]",
      "text/plain": [
       "<Figure size 1000x700 with 1 Axes>"
      ]
     },
     "metadata": {},
     "output_type": "display_data"
    }
   ],
   "source": [
    "preds, targs = learn.get_preds()\n",
    "probs = preds[:, 1]\n",
    "fpr, tpr, _ = roc_curve(targs, probs)\n",
    "roc_auc = auc(fpr, tpr)\n",
    "plt.figure(figsize=(10, 7))\n",
    "plt.plot(fpr, tpr, color='darkorange', lw=2, \n",
    "         label='ROC curve (area = %f)' % roc_auc)\n",
    "plt.plot([0, 1], [0, 1], color='navy', lw=2, linestyle='--')\n",
    "plt.xlim([0.0, 1.0])\n",
    "plt.ylim([0.0, 1.05])\n",
    "plt.xlabel('False Positive Rate')\n",
    "plt.ylabel('True Positive Rate')\n",
    "plt.title('Receiver Operating Characteristic (ROC) Curve')\n",
    "plt.legend(loc=\"lower right\")\n",
    "plt.show()"
   ]
  },
  {
   "cell_type": "code",
   "execution_count": 25,
   "id": "4321c254",
   "metadata": {},
   "outputs": [
    {
     "data": {
      "image/png": "[encoded data removed]",
      "text/plain": [
       "<Figure size 1000x700 with 2 Axes>"
      ]
     },
     "metadata": {},
     "output_type": "display_data"
    }
   ],
   "source": [
    "cm = confusion_matrix(targs, preds.argmax(dim=1))\n",
    "\n",
    "plt.figure(figsize=(10,7))\n",
    "sns.heatmap(cm, annot=True, fmt='d', cmap='Blues', xticklabels=dls.vocab, yticklabels=dls.vocab)\n",
    "plt.xlabel('Predicted')\n",
    "plt.ylabel('Actual')\n",
    "plt.title('Confusion Matrix')\n",
    "plt.show()"
   ]
  },
  {
   "cell_type": "code",
   "execution_count": null,
   "id": "90ac97fe",
   "metadata": {},
   "outputs": [],
   "source": [
    "modelo = learn.export('pesos_vgg.pkl')"
   ]
  }
 ],
 "metadata": {
  "kernelspec": {
   "display_name": "Python 3 (ipykernel)",
   "language": "python",
   "name": "python3"
  },
  "language_info": {
   "codemirror_mode": {
    "name": "ipython",
    "version": 3
   },
   "file_extension": ".py",
   "mimetype": "text/x-python",
   "name": "python",
   "nbconvert_exporter": "python",
   "pygments_lexer": "ipython3",
   "version": "3.10.9"
  }
 },
 "nbformat": 4,
 "nbformat_minor": 5
}
