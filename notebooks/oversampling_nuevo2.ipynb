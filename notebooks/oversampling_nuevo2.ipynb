{
 "cells": [
  {
   "cell_type": "code",
   "execution_count": 1,
   "id": "b7a845cb",
   "metadata": {
    "collapsed": true
   },
   "outputs": [
    {
     "name": "stdout",
     "output_type": "stream",
     "text": [
      "Defaulting to user installation because normal site-packages is not writeable\n",
      "Requirement already satisfied: imbalanced-learn in /opt/anaconda3/lib/python3.10/site-packages (0.10.1)\n",
      "Requirement already satisfied: scipy>=1.3.2 in /opt/anaconda3/lib/python3.10/site-packages (from imbalanced-learn) (1.10.0)\n",
      "Requirement already satisfied: threadpoolctl>=2.0.0 in /opt/anaconda3/lib/python3.10/site-packages (from imbalanced-learn) (2.2.0)\n",
      "Requirement already satisfied: joblib>=1.1.1 in /opt/anaconda3/lib/python3.10/site-packages (from imbalanced-learn) (1.1.1)\n",
      "Requirement already satisfied: numpy>=1.17.3 in /opt/anaconda3/lib/python3.10/site-packages (from imbalanced-learn) (1.23.5)\n",
      "Requirement already satisfied: scikit-learn>=1.0.2 in /opt/anaconda3/lib/python3.10/site-packages (from imbalanced-learn) (1.2.1)\n",
      "Note: you may need to restart the kernel to use updated packages.\n"
     ]
    }
   ],
   "source": [
    "pip install imbalanced-learn\n"
   ]
  },
  {
   "cell_type": "code",
   "execution_count": 2,
   "id": "102225c0",
   "metadata": {
    "collapsed": true
   },
   "outputs": [
    {
     "name": "stdout",
     "output_type": "stream",
     "text": [
      "Defaulting to user installation because normal site-packages is not writeable\n",
      "Requirement already satisfied: pyimagej in /data/home/alopezortiz/.local/lib/python3.10/site-packages (1.4.1)\n",
      "Requirement already satisfied: jpype1>=1.3.0 in /data/home/alopezortiz/.local/lib/python3.10/site-packages (from pyimagej) (1.5.0)\n",
      "Requirement already satisfied: scyjava>=1.8.0 in /data/home/alopezortiz/.local/lib/python3.10/site-packages (from pyimagej) (1.10.0)\n",
      "Requirement already satisfied: labeling>=0.1.12 in /data/home/alopezortiz/.local/lib/python3.10/site-packages (from pyimagej) (0.1.14)\n",
      "Requirement already satisfied: jgo>=1.0.3 in /data/home/alopezortiz/.local/lib/python3.10/site-packages (from pyimagej) (1.0.5)\n",
      "Requirement already satisfied: numpy in /opt/anaconda3/lib/python3.10/site-packages (from pyimagej) (1.23.5)\n",
      "Requirement already satisfied: xarray in /opt/anaconda3/lib/python3.10/site-packages (from pyimagej) (2022.11.0)\n",
      "Requirement already satisfied: imglyb>=2.1.0 in /data/home/alopezortiz/.local/lib/python3.10/site-packages (from pyimagej) (2.1.0)\n",
      "Requirement already satisfied: psutil in /opt/anaconda3/lib/python3.10/site-packages (from jgo>=1.0.3->pyimagej) (5.9.0)\n",
      "Requirement already satisfied: packaging in /opt/anaconda3/lib/python3.10/site-packages (from jpype1>=1.3.0->pyimagej) (22.0)\n",
      "Requirement already satisfied: scipy in /opt/anaconda3/lib/python3.10/site-packages (from labeling>=0.1.12->pyimagej) (1.10.0)\n",
      "Requirement already satisfied: pillow in /opt/anaconda3/lib/python3.10/site-packages (from labeling>=0.1.12->pyimagej) (9.4.0)\n",
      "Requirement already satisfied: tifffile in /opt/anaconda3/lib/python3.10/site-packages (from labeling>=0.1.12->pyimagej) (2021.7.2)\n",
      "Requirement already satisfied: pandas>=1.3 in /opt/anaconda3/lib/python3.10/site-packages (from xarray->pyimagej) (1.5.3)\n",
      "Requirement already satisfied: python-dateutil>=2.8.1 in /opt/anaconda3/lib/python3.10/site-packages (from pandas>=1.3->xarray->pyimagej) (2.8.2)\n",
      "Requirement already satisfied: pytz>=2020.1 in /opt/anaconda3/lib/python3.10/site-packages (from pandas>=1.3->xarray->pyimagej) (2022.7)\n",
      "Requirement already satisfied: six>=1.5 in /opt/anaconda3/lib/python3.10/site-packages (from python-dateutil>=2.8.1->pandas>=1.3->xarray->pyimagej) (1.16.0)\n",
      "Note: you may need to restart the kernel to use updated packages.\n"
     ]
    }
   ],
   "source": [
    "pip install pyimagej"
   ]
  },
  {
   "cell_type": "code",
   "execution_count": 3,
   "id": "e1cb0b36",
   "metadata": {},
   "outputs": [
    {
     "name": "stderr",
     "output_type": "stream",
     "text": [
      "2024-06-17 13:49:38.126190: I tensorflow/core/util/port.cc:113] oneDNN custom operations are on. You may see slightly different numerical results due to floating-point round-off errors from different computation orders. To turn them off, set the environment variable `TF_ENABLE_ONEDNN_OPTS=0`.\n",
      "2024-06-17 13:49:39.332457: I tensorflow/core/platform/cpu_feature_guard.cc:210] This TensorFlow binary is optimized to use available CPU instructions in performance-critical operations.\n",
      "To enable the following instructions: AVX2 AVX512F AVX512_VNNI FMA, in other operations, rebuild TensorFlow with the appropriate compiler flags.\n",
      "2024-06-17 13:49:40.609218: W tensorflow/compiler/tf2tensorrt/utils/py_utils.cc:38] TF-TRT Warning: Could not find TensorRT\n"
     ]
    }
   ],
   "source": [
    "import tensorflow as tf\n",
    "import os\n",
    "from fastai.vision.all import *\n",
    "from nbdev.showdoc import *\n",
    "import fastbook\n",
    "fastbook.setup_book()\n",
    "import random\n",
    "from fastai.vision.augment import aug_transforms\n",
    "import numpy as np\n",
    "import matplotlib.pyplot as plt\n",
    "from sklearn.metrics import confusion_matrix\n",
    "import seaborn as sns\n",
    "from imblearn.over_sampling import RandomOverSampler\n",
    "from sklearn.model_selection import train_test_split\n",
    "from sklearn.metrics import roc_auc_score\n",
    "from fastai.data.load import DataLoader\n",
    "from imblearn.over_sampling import RandomOverSampler\n",
    "import cv2\n",
    "import imagej\n",
    "from torchvision.models import vgg16\n",
    "import torch.nn as nn\n",
    "\n"
   ]
  },
  {
   "cell_type": "code",
   "execution_count": null,
   "id": "522532b7",
   "metadata": {},
   "outputs": [],
   "source": [
    "print(\"tensorflow version:\", tf.__version__)\n",
    "print(\"fastai version:\", fastai.__version__)\n",
    "print(\"nbdev.showdoc version:\", show_doc.__module__.split('.')[1])\n",
    "print(\"fastbook version:\", fastbook.__version__)\n",
    "print(\"numpy version:\", np.__version__)\n",
    "print(\"matplotlib version:\", plt.matplotlib.__version__)\n",
    "print(\"scikit-learn version:\", sklearn.__version__)\n",
    "print(\"seaborn version:\", sns.__version__)\n",
    "print(\"imbalanced-learn version:\", imblearn.__version__)\n",
    "print(\"cv2 version:\", cv2.__version__)\n",
    "print(\"imagej version:\", imagej.__version__)\n",
    "print(\"torch version:\", torch.__version__)\n",
    "print(\"torchvision version:\", vgg16.__module__.split('.')[1])"
   ]
  },
  {
   "cell_type": "code",
   "execution_count": 4,
   "id": "29e903e1",
   "metadata": {},
   "outputs": [],
   "source": [
    "bac_minus_folder = 'NEGATIVOS'\n",
    "bac_plus_folder = 'POSITIVOS'\n",
    "\n",
    "bac_minus_paths = get_image_files(bac_minus_folder)\n",
    "bac_plus_paths = get_image_files(bac_plus_folder)\n",
    "\n",
    "bac_minus_labels = [0] * len(bac_minus_paths)\n",
    "bac_plus_labels = [1] * len(bac_plus_paths)\n",
    "\n",
    "all_paths = bac_minus_paths + bac_plus_paths\n",
    "all_labels = bac_minus_labels + bac_plus_labels\n",
    "\n",
    "df = pd.DataFrame({'image_path': all_paths, 'label': all_labels})\n",
    "\n",
    "ros = RandomOverSampler(sampling_strategy='minority', random_state=42)\n",
    "oversampled_paths, oversampled_labels = ros.fit_resample(df[['image_path']], df['label'])\n",
    "\n",
    "oversampled_df = pd.DataFrame({'image_path': oversampled_paths['image_path'], 'label': oversampled_labels})\n",
    "\n",
    "train_val_df, test_df = train_test_split(\n",
    "    oversampled_df, test_size=0.2, random_state=42, stratify=oversampled_df['label']\n",
    ")\n",
    "\n",
    "train_df, valid_df = train_test_split(\n",
    "    train_val_df, test_size=0.2, random_state=42, stratify=train_val_df['label']\n",
    ")  "
   ]
  },
  {
   "cell_type": "code",
   "execution_count": 5,
   "id": "13daec3e",
   "metadata": {},
   "outputs": [
    {
     "name": "stdout",
     "output_type": "stream",
     "text": [
      "Total samples: 8834\n",
      "Training samples: 5653\n",
      "Validation samples: 1414\n",
      "Test samples: 1767\n"
     ]
    }
   ],
   "source": [
    "print(f\"Total samples: {len(oversampled_df)}\")\n",
    "print(f\"Training samples: {len(train_df)}\")\n",
    "print(f\"Validation samples: {len(valid_df)}\")\n",
    "print(f\"Test samples: {len(test_df)}\")\n",
    "\n",
    "dblock = DataBlock(\n",
    "    blocks=(ImageBlock, CategoryBlock),\n",
    "    get_x=ColReader('image_path'),\n",
    "    get_y=ColReader('label'),\n",
    "    item_tfms=Resize(256),\n",
    "    batch_tfms=aug_transforms(flip_vert=False, do_flip=False)  # Ejemplo de augmentaciones\n",
    ")\n",
    "\n"
   ]
  },
  {
   "cell_type": "code",
   "execution_count": 6,
   "id": "c7ecdd21",
   "metadata": {},
   "outputs": [],
   "source": [
    "dls = dblock.dataloaders(train_df, valid_df=valid_df, bs=8)"
   ]
  },
  {
   "cell_type": "code",
   "execution_count": 8,
   "id": "a731444c",
   "metadata": {},
   "outputs": [],
   "source": [
    "test_dblock = DataBlock(\n",
    "    blocks=(ImageBlock, CategoryBlock),\n",
    "    get_x=ColReader('image_path'),\n",
    "    get_y=ColReader('label'),\n",
    "    item_tfms=Resize(512)\n",
    ")\n",
    "\n",
    "\n",
    "test_dl = dblock.dataloaders(test_df)"
   ]
  },
  {
   "cell_type": "code",
   "execution_count": null,
   "id": "31910b43",
   "metadata": {},
   "outputs": [],
   "source": [
    "\n"
   ]
  },
  {
   "cell_type": "code",
   "execution_count": 9,
   "id": "fde8a19f",
   "metadata": {
    "scrolled": true
   },
   "outputs": [
    {
     "name": "stderr",
     "output_type": "stream",
     "text": [
      "/data/home/alopezortiz/fastai-master/fastai/vision/learner.py:301: UserWarning: `cnn_learner` has been renamed to `vision_learner` -- please update your code\n",
      "  warn(\"`cnn_learner` has been renamed to `vision_learner` -- please update your code\")\n"
     ]
    }
   ],
   "source": [
    "learn = cnn_learner(dls, models.vgg16_bn, metrics=[accuracy, Precision(), Recall(), F1Score()])\n"
   ]
  },
  {
   "cell_type": "code",
   "execution_count": null,
   "id": "2e289971",
   "metadata": {},
   "outputs": [
    {
     "data": {
      "text/html": [
       "\n",
       "<style>\n",
       "    /* Turns off some styling */\n",
       "    progress {\n",
       "        /* gets rid of default border in Firefox and Opera. */\n",
       "        border: none;\n",
       "        /* Needs to be in here for Safari polyfill so background images work as expected. */\n",
       "        background-size: auto;\n",
       "    }\n",
       "    progress:not([value]), progress:not([value])::-webkit-progress-bar {\n",
       "        background: repeating-linear-gradient(45deg, #7e7e7e, #7e7e7e 10px, #5c5c5c 10px, #5c5c5c 20px);\n",
       "    }\n",
       "    .progress-bar-interrupted, .progress-bar-interrupted::-webkit-progress-bar {\n",
       "        background: #F44336;\n",
       "    }\n",
       "</style>\n"
      ],
      "text/plain": [
       "<IPython.core.display.HTML object>"
      ]
     },
     "metadata": {},
     "output_type": "display_data"
    },
    {
     "data": {
      "text/html": [
       "<table border=\"1\" class=\"dataframe\">\n",
       "  <thead>\n",
       "    <tr style=\"text-align: left;\">\n",
       "      <th>epoch</th>\n",
       "      <th>train_loss</th>\n",
       "      <th>valid_loss</th>\n",
       "      <th>accuracy</th>\n",
       "      <th>precision_score</th>\n",
       "      <th>recall_score</th>\n",
       "      <th>f1_score</th>\n",
       "      <th>time</th>\n",
       "    </tr>\n",
       "  </thead>\n",
       "  <tbody>\n",
       "    <tr>\n",
       "      <td>0</td>\n",
       "      <td>0.687322</td>\n",
       "      <td>0.712835</td>\n",
       "      <td>0.769912</td>\n",
       "      <td>0.743842</td>\n",
       "      <td>0.813285</td>\n",
       "      <td>0.777015</td>\n",
       "      <td>03:51</td>\n",
       "    </tr>\n",
       "  </tbody>\n",
       "</table>"
      ],
      "text/plain": [
       "<IPython.core.display.HTML object>"
      ]
     },
     "metadata": {},
     "output_type": "display_data"
    },
    {
     "data": {
      "text/html": [
       "\n",
       "<style>\n",
       "    /* Turns off some styling */\n",
       "    progress {\n",
       "        /* gets rid of default border in Firefox and Opera. */\n",
       "        border: none;\n",
       "        /* Needs to be in here for Safari polyfill so background images work as expected. */\n",
       "        background-size: auto;\n",
       "    }\n",
       "    progress:not([value]), progress:not([value])::-webkit-progress-bar {\n",
       "        background: repeating-linear-gradient(45deg, #7e7e7e, #7e7e7e 10px, #5c5c5c 10px, #5c5c5c 20px);\n",
       "    }\n",
       "    .progress-bar-interrupted, .progress-bar-interrupted::-webkit-progress-bar {\n",
       "        background: #F44336;\n",
       "    }\n",
       "</style>\n"
      ],
      "text/plain": [
       "<IPython.core.display.HTML object>"
      ]
     },
     "metadata": {},
     "output_type": "display_data"
    },
    {
     "data": {
      "text/html": [
       "\n",
       "    <div>\n",
       "      <progress value='13' class='' max='15' style='width:300px; height:20px; vertical-align: middle;'></progress>\n",
       "      86.67% [13/15 55:14&lt;08:29]\n",
       "    </div>\n",
       "    \n",
       "<table border=\"1\" class=\"dataframe\">\n",
       "  <thead>\n",
       "    <tr style=\"text-align: left;\">\n",
       "      <th>epoch</th>\n",
       "      <th>train_loss</th>\n",
       "      <th>valid_loss</th>\n",
       "      <th>accuracy</th>\n",
       "      <th>precision_score</th>\n",
       "      <th>recall_score</th>\n",
       "      <th>f1_score</th>\n",
       "      <th>time</th>\n",
       "    </tr>\n",
       "  </thead>\n",
       "  <tbody>\n",
       "    <tr>\n",
       "      <td>0</td>\n",
       "      <td>0.511797</td>\n",
       "      <td>0.352655</td>\n",
       "      <td>0.839823</td>\n",
       "      <td>0.778107</td>\n",
       "      <td>0.944345</td>\n",
       "      <td>0.853204</td>\n",
       "      <td>04:09</td>\n",
       "    </tr>\n",
       "    <tr>\n",
       "      <td>1</td>\n",
       "      <td>0.510139</td>\n",
       "      <td>0.387996</td>\n",
       "      <td>0.834513</td>\n",
       "      <td>0.765805</td>\n",
       "      <td>0.956912</td>\n",
       "      <td>0.850758</td>\n",
       "      <td>04:07</td>\n",
       "    </tr>\n",
       "    <tr>\n",
       "      <td>2</td>\n",
       "      <td>0.457007</td>\n",
       "      <td>0.394298</td>\n",
       "      <td>0.836283</td>\n",
       "      <td>0.771930</td>\n",
       "      <td>0.947935</td>\n",
       "      <td>0.850927</td>\n",
       "      <td>04:13</td>\n",
       "    </tr>\n",
       "    <tr>\n",
       "      <td>3</td>\n",
       "      <td>0.462603</td>\n",
       "      <td>0.435512</td>\n",
       "      <td>0.837168</td>\n",
       "      <td>0.780451</td>\n",
       "      <td>0.931777</td>\n",
       "      <td>0.849427</td>\n",
       "      <td>04:15</td>\n",
       "    </tr>\n",
       "    <tr>\n",
       "      <td>4</td>\n",
       "      <td>0.419136</td>\n",
       "      <td>0.321364</td>\n",
       "      <td>0.860177</td>\n",
       "      <td>0.800905</td>\n",
       "      <td>0.953321</td>\n",
       "      <td>0.870492</td>\n",
       "      <td>04:09</td>\n",
       "    </tr>\n",
       "    <tr>\n",
       "      <td>5</td>\n",
       "      <td>0.378447</td>\n",
       "      <td>0.338723</td>\n",
       "      <td>0.856637</td>\n",
       "      <td>0.784173</td>\n",
       "      <td>0.978456</td>\n",
       "      <td>0.870607</td>\n",
       "      <td>04:12</td>\n",
       "    </tr>\n",
       "    <tr>\n",
       "      <td>6</td>\n",
       "      <td>0.302486</td>\n",
       "      <td>0.235600</td>\n",
       "      <td>0.913274</td>\n",
       "      <td>0.896373</td>\n",
       "      <td>0.931777</td>\n",
       "      <td>0.913732</td>\n",
       "      <td>04:16</td>\n",
       "    </tr>\n",
       "    <tr>\n",
       "      <td>7</td>\n",
       "      <td>0.201444</td>\n",
       "      <td>0.202015</td>\n",
       "      <td>0.931858</td>\n",
       "      <td>0.889610</td>\n",
       "      <td>0.983842</td>\n",
       "      <td>0.934356</td>\n",
       "      <td>04:16</td>\n",
       "    </tr>\n",
       "    <tr>\n",
       "      <td>8</td>\n",
       "      <td>0.201398</td>\n",
       "      <td>0.146972</td>\n",
       "      <td>0.957522</td>\n",
       "      <td>0.927731</td>\n",
       "      <td>0.991023</td>\n",
       "      <td>0.958333</td>\n",
       "      <td>04:13</td>\n",
       "    </tr>\n",
       "    <tr>\n",
       "      <td>9</td>\n",
       "      <td>0.155020</td>\n",
       "      <td>0.185333</td>\n",
       "      <td>0.925664</td>\n",
       "      <td>0.872441</td>\n",
       "      <td>0.994614</td>\n",
       "      <td>0.929530</td>\n",
       "      <td>04:17</td>\n",
       "    </tr>\n",
       "    <tr>\n",
       "      <td>10</td>\n",
       "      <td>0.143279</td>\n",
       "      <td>0.130365</td>\n",
       "      <td>0.953097</td>\n",
       "      <td>0.915842</td>\n",
       "      <td>0.996409</td>\n",
       "      <td>0.954428</td>\n",
       "      <td>04:27</td>\n",
       "    </tr>\n",
       "    <tr>\n",
       "      <td>11</td>\n",
       "      <td>0.069717</td>\n",
       "      <td>0.304606</td>\n",
       "      <td>0.916814</td>\n",
       "      <td>0.858915</td>\n",
       "      <td>0.994614</td>\n",
       "      <td>0.921797</td>\n",
       "      <td>04:22</td>\n",
       "    </tr>\n",
       "    <tr>\n",
       "      <td>12</td>\n",
       "      <td>0.073478</td>\n",
       "      <td>0.192778</td>\n",
       "      <td>0.944248</td>\n",
       "      <td>0.898387</td>\n",
       "      <td>1.000000</td>\n",
       "      <td>0.946474</td>\n",
       "      <td>04:12</td>\n",
       "    </tr>\n",
       "  </tbody>\n",
       "</table><p>\n",
       "\n",
       "    <div>\n",
       "      <progress value='19' class='' max='142' style='width:300px; height:20px; vertical-align: middle;'></progress>\n",
       "      13.38% [19/142 00:13&lt;01:30 0.0556]\n",
       "    </div>\n",
       "    "
      ],
      "text/plain": [
       "<IPython.core.display.HTML object>"
      ]
     },
     "metadata": {},
     "output_type": "display_data"
    }
   ],
   "source": [
    "learn.fine_tune(15)"
   ]
  },
  {
   "cell_type": "code",
   "execution_count": null,
   "id": "b6df9a9b",
   "metadata": {},
   "outputs": [],
   "source": [
    "train_losses = [x[0] for x in learn.recorder.values]\n",
    "valid_losses = [x[1] for x in learn.recorder.values]\n",
    "accuracies = [x[2] for x in learn.recorder.values]\n",
    "precision_score = [x[3] for x in learn.recorder.values]\n",
    "recall_score = [x[4] for x in learn.recorder.values]\n",
    "f1_score = [x[5] for x in learn.recorder.values]\n",
    "\n",
    "epochs = range(1, len(train_losses) + 1)\n",
    "\n",
    "plt.plot(epochs, train_losses, 'r', label='Train Loss')\n",
    "plt.plot(epochs, valid_losses, 'b', label='Valid Loss')\n",
    "plt.title('Training and Validation Loss')\n",
    "plt.xlabel('Epochs')\n",
    "plt.ylabel('Loss')\n",
    "plt.legend()\n",
    "plt.show()\n",
    "\n",
    "plt.plot(epochs, accuracies, 'b', label='Accuracy')\n",
    "plt.plot(epochs, precision_score, 'g', label='Precision')\n",
    "plt.plot(epochs, recall_score, 'm', label='Recall')\n",
    "plt.plot(epochs, f1_score, 'k', label='F1-score')\n",
    "plt.title('Accuracy, Precision, Recall and F1-score')\n",
    "plt.xlabel('Epochs')\n",
    "plt.ylabel('Score')\n",
    "plt.legend()"
   ]
  },
  {
   "cell_type": "code",
   "execution_count": null,
   "id": "94d2839b",
   "metadata": {},
   "outputs": [],
   "source": [
    "accuracies_max = max(accuracies)\n",
    "precision_score_max = max(precision_score)\n",
    "recall_score_max = max(recall_score)\n",
    "f1_score_max = max(f1_score)\n",
    "\n",
    "accuracies_avg = np.mean(accuracies)\n",
    "precision_score_avg = np.mean(precision_score)\n",
    "recall_score_avg = np.mean(recall_score)\n",
    "f1_score_avg = np.mean(f1_score)\n",
    "\n",
    "print(f'Max accuracy: {accuracies_max}')\n",
    "print(f'Max precision score: {precision_score_max}')\n",
    "print(f'Max recall score: {recall_score_max}')\n",
    "print(f'Max f1 score: {f1_score_max}')\n",
    "\n",
    "print(f'Average accuracy: {accuracies_avg}')\n",
    "print(f'Average precision score: {precision_score_avg}')\n",
    "print(f'Average precision score: {recall_score_avg}')\n",
    "print(f'Average precision score: {f1_score_avg}')"
   ]
  },
  {
   "cell_type": "code",
   "execution_count": null,
   "id": "04e1729c",
   "metadata": {},
   "outputs": [],
   "source": [
    "from sklearn.metrics import roc_auc_score, confusion_matrix, classification_report, roc_curve, auc\n",
    "\n",
    "preds, targs = learn.get_preds()\n",
    "probs = preds[:, 1]\n",
    "fpr, tpr, _ = roc_curve(targs, probs)\n",
    "roc_auc = auc(fpr, tpr)\n",
    "plt.figure(figsize=(10, 7))\n",
    "plt.plot(fpr, tpr, color='darkorange', lw=2, \n",
    "         label='ROC curve (area = %f)' % roc_auc)\n",
    "plt.plot([0, 1], [0, 1], color='navy', lw=2, linestyle='--')\n",
    "plt.xlim([0.0, 1.0])\n",
    "plt.ylim([0.0, 1.05])\n",
    "plt.xlabel('False Positive Rate')\n",
    "plt.ylabel('True Positive Rate')\n",
    "plt.title('Receiver Operating Characteristic (ROC) Curve')\n",
    "plt.legend(loc=\"lower right\")\n",
    "plt.show()"
   ]
  },
  {
   "cell_type": "code",
   "execution_count": null,
   "id": "bbc58bcf",
   "metadata": {},
   "outputs": [],
   "source": [
    "import matplotlib.pyplot as plt\n",
    "\n",
    "\n",
    "cm = confusion_matrix(targs, preds.argmax(dim=1))\n",
    "\n",
    "plt.figure(figsize=(10,7))\n",
    "sns.heatmap(cm, annot=True, fmt='d', cmap='Blues', xticklabels=dls.vocab, yticklabels=dls.vocab)\n",
    "plt.xlabel('Predicted')\n",
    "plt.ylabel('Actual')\n",
    "plt.title('Confusion Matrix')\n",
    "plt.show()"
   ]
  },
  {
   "cell_type": "code",
   "execution_count": null,
   "id": "631bd069",
   "metadata": {},
   "outputs": [],
   "source": [
    "modelo = learn.export('oversampling_vgg.pkl')"
   ]
  },
  {
   "cell_type": "code",
   "execution_count": null,
   "id": "3205b45d",
   "metadata": {},
   "outputs": [],
   "source": [
    "modelo = load_learner('oversampling_vgg.pkl')\n"
   ]
  },
  {
   "cell_type": "code",
   "execution_count": null,
   "id": "1b90949c",
   "metadata": {},
   "outputs": [],
   "source": [
    "def load_and_preprocess_image(image_path):\n",
    "    img = Image.open(image_path).convert('L')\n",
    "    img = np.array(img)\n",
    "    img = np.stack([img, img, img], axis=0)\n",
    "    img = np.transpose(img, (1, 2, 0))\n",
    "    img = PILImage.create(img)\n",
    "    return img"
   ]
  },
  {
   "cell_type": "code",
   "execution_count": null,
   "id": "b025b53b",
   "metadata": {},
   "outputs": [],
   "source": [
    "modelo.model.eval()"
   ]
  },
  {
   "cell_type": "code",
   "execution_count": null,
   "id": "f5aa5898",
   "metadata": {},
   "outputs": [],
   "source": [
    "test_dblock = DataBlock(\n",
    "    blocks=(ImageBlock, CategoryBlock),\n",
    "    get_x=ColReader('image_path'),\n",
    "    get_y=ColReader('label'),\n",
    "    item_tfms=Resize(256),\n",
    "    batch_tfms=None\n",
    ")\n",
    "\n",
    "test_dls = test_dblock.dataloaders(test_df, bs=8)"
   ]
  },
  {
   "cell_type": "code",
   "execution_count": null,
   "id": "741a511d",
   "metadata": {},
   "outputs": [],
   "source": [
    "test_dl = dls.test_dl(test_df)"
   ]
  },
  {
   "cell_type": "code",
   "execution_count": null,
   "id": "c15ee64c",
   "metadata": {},
   "outputs": [],
   "source": [
    "test_dl"
   ]
  },
  {
   "cell_type": "code",
   "execution_count": null,
   "id": "03df0221",
   "metadata": {},
   "outputs": [],
   "source": [
    "preds, targs = modelo.get_preds(dl=test_dl)\n",
    "pred_labels = preds.argmax(dim=1)\n"
   ]
  },
  {
   "cell_type": "code",
   "execution_count": null,
   "id": "df873d8f",
   "metadata": {},
   "outputs": [],
   "source": [
    "def visualize_predictions(test_df, pred_labels, model):\n",
    "    fig, axes = plt.subplots(4, 5, figsize=(20, 16))\n",
    "    axes = axes.flatten()\n",
    "    for i, ax in enumerate(axes):\n",
    "        img_path = test_df.iloc[i]['image_path']\n",
    "        img = PILImage.create(img_path)\n",
    "        ax.imshow(img)\n",
    "        true_label = test_df.iloc[i]['label']\n",
    "        pred_label = pred_labels[i]\n",
    "        ax.set_title(f'True: {model.dls.vocab[true_label]}, Predicted: {model.dls.vocab[pred_label]}')\n",
    "        ax.axis('off')\n",
    "    plt.tight_layout()\n",
    "    plt.show()"
   ]
  },
  {
   "cell_type": "code",
   "execution_count": null,
   "id": "75fbb297",
   "metadata": {},
   "outputs": [],
   "source": [
    "visualize_predictions(test_df, pred_labels, modelo)"
   ]
  },
  {
   "cell_type": "code",
   "execution_count": null,
   "id": "390ed504",
   "metadata": {},
   "outputs": [],
   "source": [
    "accuracy = accuracy_score(targs, pred_labels)\n",
    "precision = precision_score(targs, pred_labels, average='weighted')\n",
    "recall = recall_score(targs, pred_labels, average='weighted')\n",
    "f1 = f1_score(targs, pred_labels, average='weighted')\n",
    "\n",
    "print(f'Accuracy: {accuracy:.4f}')\n",
    "print(f'Precision: {precision:.4f}')\n",
    "print(f'Recall: {recall:.4f}')\n",
    "print(f'F1 Score: {f1:.4f}')"
   ]
  },
  {
   "cell_type": "code",
   "execution_count": null,
   "id": "0a4e81ed",
   "metadata": {},
   "outputs": [],
   "source": [
    "bac_negativa_path = 'Images_JPEG_nuevos/DXm.1.2.840.113681.2207421036.704.3593662844.3397.1.jpeg'\n",
    "bac_positiva_path = 'Images_JPEG_nuevos/DXm.1.2.392.200036.9125.4.0.656626344.956488136.148003828.jpeg'"
   ]
  },
  {
   "cell_type": "code",
   "execution_count": null,
   "id": "a13ecd50",
   "metadata": {},
   "outputs": [],
   "source": [
    "def load_and_preprocess_image(image_path):\n",
    "    img = Image.open(image_path).convert('L')\n",
    "    img = np.array(img)\n",
    "    img = np.stack([img, img, img], axis=0)\n",
    "    img = np.transpose(img, (1, 2, 0))\n",
    "    img = PILImage.create(img)\n",
    "    return img"
   ]
  },
  {
   "cell_type": "code",
   "execution_count": null,
   "id": "49433592",
   "metadata": {},
   "outputs": [],
   "source": [
    "image = load_and_preprocess_image(bac_positiva_path)"
   ]
  },
  {
   "cell_type": "code",
   "execution_count": null,
   "id": "9109e906",
   "metadata": {},
   "outputs": [],
   "source": [
    "pred, pred_idx, probs = modelo.predict(image)\n"
   ]
  },
  {
   "cell_type": "code",
   "execution_count": null,
   "id": "ce5f8387",
   "metadata": {
    "scrolled": false
   },
   "outputs": [],
   "source": [
    "plt.imshow(image, cmap='gray')\n",
    "plt.title(f'Predicción: {modelo.dls.vocab[pred_idx]} (Prob: {probs[pred_idx]:.4f})')\n",
    "plt.axis('off')\n",
    "plt.show()"
   ]
  },
  {
   "cell_type": "code",
   "execution_count": null,
   "id": "275a2447",
   "metadata": {},
   "outputs": [],
   "source": [
    "precision = precision_score(targs, pred_labels, average='weighted')\n",
    "recall = recall_score(targs, pred_labels, average='weighted')\n",
    "f1 = f1_score(targs, pred_labels, average='weighted')\n",
    "\n",
    "print(f'Precision: {precision}')\n",
    "print(f'Recall: {recall}')\n",
    "print(f'F1-Score: {f1}')"
   ]
  }
 ],
 "metadata": {
  "kernelspec": {
   "display_name": "Python 3 (ipykernel)",
   "language": "python",
   "name": "python3"
  },
  "language_info": {
   "codemirror_mode": {
    "name": "ipython",
    "version": 3
   },
   "file_extension": ".py",
   "mimetype": "text/x-python",
   "name": "python",
   "nbconvert_exporter": "python",
   "pygments_lexer": "ipython3",
   "version": "3.10.9"
  }
 },
 "nbformat": 4,
 "nbformat_minor": 5
}
