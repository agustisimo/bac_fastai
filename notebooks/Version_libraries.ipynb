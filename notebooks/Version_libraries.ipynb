{
 "cells": [
  {
   "cell_type": "code",
   "execution_count": 4,
   "id": "6ecc9c0c",
   "metadata": {},
   "outputs": [],
   "source": [
    "import tensorflow as tf\n",
    "import os\n",
    "import fastai\n",
    "import nbdev\n",
    "import fastbook\n",
    "import random\n",
    "import numpy as np\n",
    "import matplotlib.pyplot as plt\n",
    "import sklearn\n",
    "import seaborn as sns\n",
    "import imblearn\n",
    "import torchvision\n",
    "import torch.nn as nn"
   ]
  },
  {
   "cell_type": "code",
   "execution_count": 8,
   "id": "276c9ebc",
   "metadata": {},
   "outputs": [
    {
     "name": "stdout",
     "output_type": "stream",
     "text": [
      "TensorFlow: 2.16.1\n",
      "Fastai: 2.7.14\n",
      "Numpy: 1.23.5\n",
      "Matplotlib: 3.7.0\n",
      "Scikit-learn: 1.2.1\n",
      "Seaborn: 0.12.2\n",
      "Imbalanced-learn: 0.10.1\n",
      "Torchvision: 0.17.2+cu121\n",
      "Torch: 2.2.2+cu121\n"
     ]
    }
   ],
   "source": [
    "print(\"TensorFlow:\", tf.__version__)\n",
    "print(\"Fastai:\", fastai.__version__)\n",
    "print(\"Numpy:\", np.__version__)\n",
    "print(\"Matplotlib:\", matplotlib.__version__)\n",
    "print(\"Scikit-learn:\", sklearn.__version__)\n",
    "print(\"Seaborn:\", sns.__version__)\n",
    "print(\"Imbalanced-learn:\", imblearn.__version__)\n",
    "print(\"Torchvision:\", torchvision.__version__)\n",
    "print(\"Torch:\", torch.__version__)"
   ]
  }
 ],
 "metadata": {
  "kernelspec": {
   "display_name": "Python 3 (ipykernel)",
   "language": "python",
   "name": "python3"
  },
  "language_info": {
   "codemirror_mode": {
    "name": "ipython",
    "version": 3
   },
   "file_extension": ".py",
   "mimetype": "text/x-python",
   "name": "python",
   "nbconvert_exporter": "python",
   "pygments_lexer": "ipython3",
   "version": "3.10.9"
  }
 },
 "nbformat": 4,
 "nbformat_minor": 5
}
