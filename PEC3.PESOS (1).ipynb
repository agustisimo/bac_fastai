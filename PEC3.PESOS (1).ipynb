{
 "cells": [
  {
   "cell_type": "code",
   "execution_count": null,
   "id": "787cfa8e",
   "metadata": {},
   "outputs": [],
   "source": [
    "pip install imbalanced-learn"
   ]
  },
  {
   "cell_type": "code",
   "execution_count": null,
   "id": "117006cc",
   "metadata": {},
   "outputs": [],
   "source": [
    "import tensorflow as tf\n",
    "import os\n",
    "from fastai.vision.all import *\n",
    "from nbdev.showdoc import *\n",
    "import fastbook\n",
    "fastbook.setup_book()\n",
    "import random\n",
    "from fastai.vision.augment import aug_transforms\n",
    "import numpy as np\n",
    "import matplotlib.pyplot as plt\n",
    "import seaborn as sns\n",
    "from imblearn.over_sampling import RandomOverSampler\n",
    "from sklearn.model_selection import train_test_split\n",
    "from fastai.data.load import DataLoader\n",
    "from imblearn.over_sampling import RandomOverSampler\n",
    "from sklearn.metrics import roc_auc_score, confusion_matrix, classification_report"
   ]
  },
  {
   "cell_type": "code",
   "execution_count": null,
   "id": "b2e34ab6",
   "metadata": {},
   "outputs": [],
   "source": [
    "bac_minus_folder = 'NEGATIVOS'\n",
    "bac_plus_folder = 'POSITIVOS'\n",
    "\n",
    "bac_minus_paths = get_image_files(bac_minus_folder)\n",
    "bac_plus_paths = get_image_files(bac_plus_folder)\n",
    "\n",
    "bac_minus_labels = [0] * len(bac_minus_paths)\n",
    "bac_plus_labels = [1] * len(bac_plus_paths)\n",
    "\n",
    "all_paths = bac_minus_paths + bac_plus_paths\n",
    "#all_paths_array = np.array(all_paths).reshape(-1, 1)\n",
    "all_paths_list = list(all_paths)\n",
    "\n",
    "\n",
    "all_labels = bac_minus_labels + bac_plus_labels\n",
    "\n",
    "\n",
    "print(len(bac_minus_paths))\n",
    "print(len(bac_plus_paths))\n",
    "\n",
    "print(len(bac_minus_labels))\n",
    "print(len(bac_plus_labels))\n",
    "\n",
    "print(len(all_paths))\n",
    "print(len(all_labels))\n"
   ]
  },
  {
   "cell_type": "code",
   "execution_count": null,
   "id": "fa7f2709",
   "metadata": {},
   "outputs": [],
   "source": [
    "train_paths, test_paths, train_labels, test_labels = train_test_split(all_paths_list, all_labels, test_size=0.2, random_state=42, stratify=all_labels)\n",
    "\n",
    "print(len(train_paths))\n",
    "print(len(test_paths))\n",
    "\n",
    "print(len(train_labels))\n",
    "print(len(test_labels))"
   ]
  },
  {
   "cell_type": "code",
   "execution_count": null,
   "id": "da8d2e35",
   "metadata": {},
   "outputs": [],
   "source": [
    "batch_tfms = aug_transforms(flip_vert=False,do_flip=False)\n",
    "\n",
    "train_df = pd.DataFrame({'paths': train_paths, 'labels': train_labels})\n",
    "test_df = pd.DataFrame({'paths': test_paths, 'labels': test_labels})\n"
   ]
  },
  {
   "cell_type": "code",
   "execution_count": null,
   "id": "4cd4a7ce",
   "metadata": {},
   "outputs": [],
   "source": [
    "dblock = DataBlock(\n",
    "    blocks=(ImageBlock, CategoryBlock),\n",
    "    get_x=ColReader('paths'),\n",
    "    get_y=ColReader('labels'),\n",
    "    item_tfms=Resize(512),\n",
    "    batch_tfms=batch_tfms,\n",
    "    splitter=RandomSplitter(seed=42)\n",
    ")"
   ]
  },
  {
   "cell_type": "code",
   "execution_count": null,
   "id": "b48cfdbd",
   "metadata": {},
   "outputs": [],
   "source": [
    "dls = dblock.dataloaders(train_df)\n"
   ]
  },
  {
   "cell_type": "code",
   "execution_count": null,
   "id": "d2ced9e2",
   "metadata": {},
   "outputs": [],
   "source": [
    "class RocAuc(Metric):\n",
    "    def __init__(self): self._name = \"roc_auc_score\"\n",
    "    def reset(self): self.preds, self.targets = [], []\n",
    "    def accumulate(self, learn):\n",
    "        preds = learn.pred.argmax(dim=-1).cpu().numpy()\n",
    "        targets = learn.y.cpu().numpy()\n",
    "        self.preds.extend(preds)\n",
    "        self.targets.extend(targets)\n",
    "    @property\n",
    "    def value(self):\n",
    "        if len(np.unique(self.targets)) == 1:\n",
    "            return 0.0  # if only one class in targets, roc_auc_score can't be calculated\n",
    "        return roc_auc_score(self.targets, self.preds)\n",
    "    @property\n",
    "    def name(self):\n",
    "        return self._name\n",
    "    \n",
    "def get_weights(dls):\n",
    "    classes = dls.vocab\n",
    "    train_lbls = L(map(lambda x: classes[x[1]], dls.train_ds))\n",
    "    label_counter = Counter(train_lbls)\n",
    "    n_most_common_class = max(label_counter.values())\n",
    "    print(f'Occurrences of the most common class {n_most_common_class}')\n",
    "    weights = [n_most_common_class/v for k, v in label_counter.items() if v > 0]\n",
    "    return weights"
   ]
  },
  {
   "cell_type": "code",
   "execution_count": null,
   "id": "53d91c61",
   "metadata": {},
   "outputs": [],
   "source": [
    "vis_learn = cnn_learner(dls, resnet18, metrics=[accuracy, RocAuc()], pretrained=True)"
   ]
  },
  {
   "cell_type": "code",
   "execution_count": null,
   "id": "dc4eb6e2",
   "metadata": {},
   "outputs": [],
   "source": [
    "class_weights = get_weights(dls)"
   ]
  },
  {
   "cell_type": "code",
   "execution_count": null,
   "id": "ac86ff84",
   "metadata": {},
   "outputs": [],
   "source": [
    "weight_tensor = torch.FloatTensor(class_weights)"
   ]
  },
  {
   "cell_type": "code",
   "execution_count": null,
   "id": "320332a9",
   "metadata": {},
   "outputs": [],
   "source": [
    "vis_learn.loss_func = CrossEntropyLossFlat(weight=weight_tensor)"
   ]
  },
  {
   "cell_type": "code",
   "execution_count": null,
   "id": "4c790582",
   "metadata": {},
   "outputs": [],
   "source": [
    "vis_learn.fine_tune(15, freeze_epochs=15, \n",
    "                      cbs=[EarlyStoppingCallback(monitor='accuracy', patience=10), \n",
    "                           SaveModelCallback(monitor='accuracy', with_opt=True, fname='fastai2_VIS_weights')])"
   ]
  },
  {
   "cell_type": "code",
   "execution_count": null,
   "id": "75cf3b7e",
   "metadata": {},
   "outputs": [],
   "source": [
    "train_losses = [x[0] for x in vis_learn.recorder.values]\n",
    "valid_losses = [x[1] for x in vis_learn.recorder.values]\n",
    "accuracies = [x[2] for x in vis_learn.recorder.values]\n",
    "roc_auc_scores = [x[3] for x in vis_learn.recorder.values]\n",
    "\n",
    "# Graficar las métricas\n",
    "epochs = range(1, len(train_losses) + 1)\n",
    "plt.figure(figsize=(12, 5))\n",
    "\n",
    "# Pérdida de entrenamiento y validación\n",
    "plt.subplot(1, 2, 1)\n",
    "plt.plot(epochs, train_losses, 'r', label='Train Loss')\n",
    "plt.plot(epochs, valid_losses, 'b', label='Valid Loss')\n",
    "plt.title('Training and Validation Loss')\n",
    "plt.xlabel('Epochs')\n",
    "plt.ylabel('Loss')\n",
    "plt.legend()\n",
    "\n",
    "# Precisión y ROC AUC\n",
    "plt.subplot(1, 2, 2)\n",
    "plt.plot(epochs, accuracies, 'g', label='Accuracy')\n",
    "plt.plot(epochs, roc_auc_scores, 'm', label='ROC AUC')\n",
    "plt.title('Accuracy and ROC AUC')\n",
    "plt.xlabel('Epochs')\n",
    "plt.ylabel('Score')\n",
    "plt.legend()\n",
    "\n",
    "plt.show()\n"
   ]
  },
  {
   "cell_type": "code",
   "execution_count": null,
   "id": "9e65c635",
   "metadata": {},
   "outputs": [],
   "source": [
    "from sklearn.metrics import roc_auc_score, confusion_matrix, classification_report\n",
    "\n",
    "# Confusion Matrix\n",
    "preds, targs = vis_learn.get_preds()\n",
    "# Verificar las formas de preds y targs\n",
    "print(f'Predictions shape: {preds.shape}')\n",
    "print(f'Targets shape: {targs.shape}')\n",
    "if len(targs.shape) > 1 and targs.shape[1] == 1:\n",
    "    targs = targs.squeeze(1)\n",
    "print(f'Adjusted Targets shape: {targs.shape}')\n",
    "cm = confusion_matrix(targs, preds.argmax(dim=1))\n",
    "print('Confusion Matrix:')\n",
    "print(cm)\n",
    "\n",
    "plt.figure(figsize=(10,7))\n",
    "sns.heatmap(cm, annot=True, fmt='d', cmap='Blues', xticklabels=dls.vocab, yticklabels=dls.vocab)\n",
    "plt.xlabel('Predicted')\n",
    "plt.ylabel('Actual')\n",
    "plt.title('Confusion Matrix')\n",
    "plt.show()"
   ]
  },
  {
   "cell_type": "code",
   "execution_count": null,
   "id": "0bb320b1",
   "metadata": {},
   "outputs": [],
   "source": [
    "from sklearn.metrics import roc_curve, auc\n",
    "\n",
    "probs = preds[:, 1]\n",
    "fpr, tpr, _ = roc_curve(targs, probs)\n",
    "roc_auc = auc(fpr, tpr)\n",
    "plt.figure(figsize=(10, 7))\n",
    "plt.plot(fpr, tpr, color='darkorange', lw=2, label='ROC curve (area = %0.2f)' % roc_auc)\n",
    "plt.plot([0, 1], [0, 1], color='navy', lw=2, linestyle='--')\n",
    "plt.xlim([0.0, 1.0])\n",
    "plt.ylim([0.0, 1.05])\n",
    "plt.xlabel('False Positive Rate')\n",
    "plt.ylabel('True Positive Rate')\n",
    "plt.title('Receiver Operating Characteristic (ROC) Curve')\n",
    "plt.legend(loc=\"lower right\")\n",
    "plt.show()"
   ]
  },
  {
   "cell_type": "code",
   "execution_count": null,
   "id": "e7784c27",
   "metadata": {},
   "outputs": [],
   "source": []
  }
 ],
 "metadata": {
  "kernelspec": {
   "display_name": "Python 3 (ipykernel)",
   "language": "python",
   "name": "python3"
  },
  "language_info": {
   "codemirror_mode": {
    "name": "ipython",
    "version": 3
   },
   "file_extension": ".py",
   "mimetype": "text/x-python",
   "name": "python",
   "nbconvert_exporter": "python",
   "pygments_lexer": "ipython3",
   "version": "3.10.9"
  }
 },
 "nbformat": 4,
 "nbformat_minor": 5
}
